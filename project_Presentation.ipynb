{
 "cells": [
  {
   "attachments": {},
   "cell_type": "markdown",
   "metadata": {},
   "source": [
    "# Milestone 1"
   ]
  },
  {
   "attachments": {},
   "cell_type": "markdown",
   "metadata": {},
   "source": [
    "## Step 1: Preparing for Your Proposal"
   ]
  },
  {
   "attachments": {},
   "cell_type": "markdown",
   "metadata": {},
   "source": [
    "### 1. Which client/dataset did you select and why?"
   ]
  },
  {
   "attachments": {},
   "cell_type": "markdown",
   "metadata": {},
   "source": [
    "I selected [Lobbyists4America](https://www.dropbox.com/sh/qrq1pcjsji0v03u/AAC639WcH58tM0YZperwY388a?dl=0) dataset because I want to find the impact of tweets on the audience."
   ]
  },
  {
   "attachments": {},
   "cell_type": "markdown",
   "metadata": {},
   "source": [
    "### 2. Describe the steps you took to import and clean the data."
   ]
  },
  {
   "attachments": {},
   "cell_type": "markdown",
   "metadata": {},
   "source": [
    "- First, I imported pandas to read the json files (users and tweets)."
   ]
  },
  {
   "attachments": {},
   "cell_type": "markdown",
   "metadata": {},
   "source": [
    "- Second, I looked at their features to find which information are necessary for my analysis and I sliced the important features for my project."
   ]
  },
  {
   "attachments": {},
   "cell_type": "markdown",
   "metadata": {},
   "source": [
    "### 3. Perform initial exploration of data and provide some screenshots or display some stats of the data you are looking at."
   ]
  },
  {
   "attachments": {},
   "cell_type": "markdown",
   "metadata": {},
   "source": [
    "![caption](output1.png)"
   ]
  },
  {
   "attachments": {},
   "cell_type": "markdown",
   "metadata": {},
   "source": [
    "![caption](output2.png)"
   ]
  },
  {
   "attachments": {},
   "cell_type": "markdown",
   "metadata": {},
   "source": [
    "![caption](output3.png)"
   ]
  },
  {
   "attachments": {},
   "cell_type": "markdown",
   "metadata": {},
   "source": [
    "### 4. Create an ERD or proposed ERD to show the relationships of the data you are exploring. "
   ]
  },
  {
   "attachments": {},
   "cell_type": "markdown",
   "metadata": {},
   "source": [
    "![caption](output4.png)"
   ]
  },
  {
   "attachments": {},
   "cell_type": "markdown",
   "metadata": {},
   "source": [
    "## Step 2: Develop Project Proposal"
   ]
  },
  {
   "attachments": {},
   "cell_type": "markdown",
   "metadata": {},
   "source": [
    "### Description"
   ]
  },
  {
   "attachments": {},
   "cell_type": "markdown",
   "metadata": {},
   "source": [
    "My project focuses on the politicians' Twitter information (mostly the number of followers, and the number of tweets).\n",
    "\n",
    "My findings are generally consist of the relations between variables.\n",
    "\n",
    "My project aims to be a solution for people who want to affect the legislation.\n",
    "\n",
    "My audience can be everyone, especially youth politicians who want to be more assertive and successful."
   ]
  },
  {
   "attachments": {},
   "cell_type": "markdown",
   "metadata": {},
   "source": [
    "### Questions"
   ]
  },
  {
   "attachments": {},
   "cell_type": "markdown",
   "metadata": {},
   "source": [
    "1. What is the relationship between the popularity (number of followers) and the number of tweets of politicians?"
   ]
  },
  {
   "attachments": {},
   "cell_type": "markdown",
   "metadata": {},
   "source": [
    "2. How did the importance of tweets change over ten years?"
   ]
  },
  {
   "attachments": {},
   "cell_type": "markdown",
   "metadata": {},
   "source": [
    "3. What is the tone of the tweets with more users who have marked them as favourites?"
   ]
  },
  {
   "attachments": {},
   "cell_type": "markdown",
   "metadata": {},
   "source": [
    "### Hypothesis"
   ]
  },
  {
   "attachments": {},
   "cell_type": "markdown",
   "metadata": {},
   "source": [
    "1. I think there will be a positive correlation between the number of tweets and the number of followers."
   ]
  },
  {
   "attachments": {},
   "cell_type": "markdown",
   "metadata": {},
   "source": [
    "2. The importance of tweets will increase because of the increase in Twitter usage."
   ]
  },
  {
   "attachments": {},
   "cell_type": "markdown",
   "metadata": {},
   "source": [
    "3. probably they will contain emotions that are important to American citizens like liberty, justice or patriotism."
   ]
  },
  {
   "attachments": {},
   "cell_type": "markdown",
   "metadata": {},
   "source": [
    "### Approach"
   ]
  },
  {
   "attachments": {},
   "cell_type": "markdown",
   "metadata": {},
   "source": [
    "I am going to look at the number of followers and the number of tweets first."
   ]
  },
  {
   "attachments": {},
   "cell_type": "markdown",
   "metadata": {},
   "source": [
    "To do this, I am going to use the __groupeby__ function because there were no features about the number of tweets."
   ]
  },
  {
   "attachments": {},
   "cell_type": "markdown",
   "metadata": {},
   "source": [
    "I will also merge the users and tweets table to see who are the owners of the tweets."
   ]
  },
  {
   "attachments": {},
   "cell_type": "markdown",
   "metadata": {},
   "source": [
    "I think the relations that I want to explore are generally positively correlated."
   ]
  },
  {
   "attachments": {},
   "cell_type": "markdown",
   "metadata": {},
   "source": [
    "To explore this, I am going to import the __pearsonr__ function from SciPy library to see the correlation between the number of followers and the number of tweets."
   ]
  },
  {
   "attachments": {},
   "cell_type": "markdown",
   "metadata": {},
   "source": [
    "# Milestone 2"
   ]
  },
  {
   "attachments": {},
   "cell_type": "markdown",
   "metadata": {},
   "source": [
    "- I looked at the number of tweets of politicians and their followers count to find a relationship between them. Therefore I plotted graphs to visualise the data and used Pearson correlation to find correlations.\n",
    "\n",
    "- I found that the number of tweets and followers are positively correlated. I also realised that the tweets are more patriotic in election times.\n",
    "\n",
    "- I proved my first and second hypotheses with visualisation and statistical data. My third hypothesis seems true, but I need more proof for my third hypothesis.\n",
    "\n",
    "- To do this, I am going to use Scikit-learn and TensorFlow libraries to create a favourite count predictor from the text, and I will test it."
   ]
  },
  {
   "attachments": {},
   "cell_type": "markdown",
   "metadata": {},
   "source": [
    "# Milestone 3"
   ]
  },
  {
   "attachments": {},
   "cell_type": "markdown",
   "metadata": {},
   "source": [
    "- I discovered a positive correlation between the number of tweets of politicians and their followers count. Since my p-value is less than 0.05, I suggested that I need to reject the null hypothesis.\n",
    "\n",
    "- I developed a machine that predicts the number of users who marked the tweets as favorites from the text. I discovered that talking about a politician (especially a popular one) increases the prediction value.\n",
    "\n",
    "- I discovered that I missed some points in the dates. I think there is a correlation between dates and the number of tweets. I am going to use KDE (Kernel density estimation) to find a relation between the dates and the number of tweets."
   ]
  },
  {
   "attachments": {},
   "cell_type": "markdown",
   "metadata": {},
   "source": [
    "# Milestone 4"
   ]
  },
  {
   "attachments": {},
   "cell_type": "markdown",
   "metadata": {},
   "source": [
    "- I used VSCode's *Jupyter*(Jupyter Notebook) extension for my project because it is handy and readable.\n",
    "\n",
    "- I used the Pandas library to take and slice the data, and I also used Matplotlib and Seaborn libraries to visualise my data and findings. To create the database and ERD, I used *SQLTools* and *ERD Editor* extensions.\n",
    "\n",
    "- I have explained my questions, hypotheses and approaches with visualisations. I also used statistical metrics and machine learning to deepen my analysis.\n",
    "\n",
    "- I made all of my work with VSCode because I didn't want to deal with lots of applications. It contains all extensions I need to do this project.\n",
    "\n",
    "- As a recommendation, any politicians, who are experienced or not, should use Twitter efficiently and frequently to be more well-known. They can also benefit from other politicians' popularity to interest other people."
   ]
  }
 ],
 "metadata": {
  "kernelspec": {
   "display_name": "Python 3",
   "language": "python",
   "name": "python3"
  },
  "language_info": {
   "codemirror_mode": {
    "name": "ipython",
    "version": 3
   },
   "file_extension": ".py",
   "mimetype": "text/x-python",
   "name": "python",
   "nbconvert_exporter": "python",
   "pygments_lexer": "ipython3",
   "version": "3.11.3"
  },
  "orig_nbformat": 4
 },
 "nbformat": 4,
 "nbformat_minor": 2
}
