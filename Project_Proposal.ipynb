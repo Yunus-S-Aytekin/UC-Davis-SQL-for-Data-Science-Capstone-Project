{
 "cells": [
  {
   "attachments": {},
   "cell_type": "markdown",
   "metadata": {},
   "source": [
    "# Step 1: Preparing for Your Proposal"
   ]
  },
  {
   "attachments": {},
   "cell_type": "markdown",
   "metadata": {},
   "source": [
    "### 1. Which client/dataset did you select and why?"
   ]
  },
  {
   "attachments": {},
   "cell_type": "markdown",
   "metadata": {},
   "source": [
    "I selected [Lobbyists4America](https://www.dropbox.com/sh/qrq1pcjsji0v03u/AAC639WcH58tM0YZperwY388a?dl=0) dataset because I want to find the impact of tweets on the audience."
   ]
  },
  {
   "attachments": {},
   "cell_type": "markdown",
   "metadata": {},
   "source": [
    "### 2. Describe the steps you took to import and clean the data."
   ]
  },
  {
   "attachments": {},
   "cell_type": "markdown",
   "metadata": {},
   "source": [
    "- First, I imported pandas to read the json files (users and tweets)."
   ]
  },
  {
   "attachments": {},
   "cell_type": "markdown",
   "metadata": {},
   "source": [
    "- Second, I looked at their features to find which information are necessary for my analysis and I sliced the important features for my project."
   ]
  },
  {
   "attachments": {},
   "cell_type": "markdown",
   "metadata": {},
   "source": [
    "### 3. Perform initial exploration of data and provide some screenshots or display some stats of the data you are looking at."
   ]
  },
  {
   "attachments": {},
   "cell_type": "markdown",
   "metadata": {},
   "source": [
    "![caption](Visualisations/output1.png)"
   ]
  },
  {
   "attachments": {},
   "cell_type": "markdown",
   "metadata": {},
   "source": [
    "![caption](Visualisations/output2.png)"
   ]
  },
  {
   "attachments": {},
   "cell_type": "markdown",
   "metadata": {},
   "source": [
    "![caption](Visualisations/output3.png)"
   ]
  },
  {
   "attachments": {},
   "cell_type": "markdown",
   "metadata": {},
   "source": [
    "### 4. Create an ERD or proposed ERD to show the relationships of the data you are exploring. "
   ]
  },
  {
   "attachments": {},
   "cell_type": "markdown",
   "metadata": {},
   "source": [
    "![caption](Visualisations/ERD.png)"
   ]
  },
  {
   "attachments": {},
   "cell_type": "markdown",
   "metadata": {},
   "source": [
    "# Step 2: Develop Project Proposal"
   ]
  },
  {
   "attachments": {},
   "cell_type": "markdown",
   "metadata": {},
   "source": [
    "### Description"
   ]
  },
  {
   "attachments": {},
   "cell_type": "markdown",
   "metadata": {},
   "source": [
    "My project focuses on the politicians' Twitter information (mostly the number of followers, and the number of tweets).\n",
    "\n",
    "My findings are generally consist of the relations between variables.\n",
    "\n",
    "My project aims to be a solution for people who want to affect the legislation.\n",
    "\n",
    "My audience can be everyone, especially youth politicians who want to be more assertive and successful."
   ]
  },
  {
   "attachments": {},
   "cell_type": "markdown",
   "metadata": {},
   "source": [
    "### Questions"
   ]
  },
  {
   "attachments": {},
   "cell_type": "markdown",
   "metadata": {},
   "source": [
    "1. What is the relationship between the popularity (number of followers) and the number of tweets of politicians?\n",
    "2. How did the importance of tweets change over ten years?\n",
    "3. What is the tone of the tweets with more users who have marked them as favourites?"
   ]
  },
  {
   "attachments": {},
   "cell_type": "markdown",
   "metadata": {},
   "source": [
    "### Hypothesis"
   ]
  },
  {
   "attachments": {},
   "cell_type": "markdown",
   "metadata": {},
   "source": [
    "1. I think there will be a positive correlation between the number of tweets and the number of followers.\n",
    "2. The importance of tweets will increase because of the increase in Twitter usage.\n",
    "3. probably they will contain emotions that are important to American citizens like liberty, justice or patriotism."
   ]
  },
  {
   "attachments": {},
   "cell_type": "markdown",
   "metadata": {},
   "source": [
    "### Approach"
   ]
  },
  {
   "attachments": {},
   "cell_type": "markdown",
   "metadata": {},
   "source": [
    "I am going to look at the number of followers and the number of tweets first.\n",
    "\n",
    "To do this, I am going to use the __groupeby__ function because there were no features about the number of tweets.\n",
    "\n",
    "I will also merge the users and tweets table to see who are the owners of the tweets.\n",
    "\n",
    "I think the relations that I want to explore are generally positively correlated.\n",
    "\n",
    "To explore this, I am going to import the __pearsonr__ function from SciPy library to see the correlation between the number of followers and the number of tweets."
   ]
  }
 ],
 "metadata": {
  "kernelspec": {
   "display_name": "Python 3",
   "language": "python",
   "name": "python3"
  },
  "language_info": {
   "codemirror_mode": {
    "name": "ipython",
    "version": 3
   },
   "file_extension": ".py",
   "mimetype": "text/x-python",
   "name": "python",
   "nbconvert_exporter": "python",
   "pygments_lexer": "ipython3",
   "version": "3.11.3"
  },
  "orig_nbformat": 4
 },
 "nbformat": 4,
 "nbformat_minor": 2
}
